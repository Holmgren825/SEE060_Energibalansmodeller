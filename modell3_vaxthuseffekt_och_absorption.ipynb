{
 "cells": [
  {
   "cell_type": "markdown",
   "id": "0f0cd9f3-28c8-4a42-b191-06b9dbe4d74a",
   "metadata": {},
   "source": [
    "# Den enklaste strålningsmodellen"
   ]
  },
  {
   "cell_type": "markdown",
   "id": "accd71a5-3131-40af-b843-ddd07485d29f",
   "metadata": {},
   "source": [
    "## Beskrivning\n",
    "\n",
    "..."
   ]
  },
  {
   "cell_type": "markdown",
   "id": "06d0206f-0291-41cf-9a31-23a44ebca599",
   "metadata": {},
   "source": [
    "## Matematisk härledning\n",
    "\n",
    "..."
   ]
  },
  {
   "cell_type": "markdown",
   "id": "c3b06d93-806c-4a28-aee1-d711450863f4",
   "metadata": {},
   "source": [
    "## Modellkod\n",
    "\n",
    "Markera kodcellen nedan genom att klicka på den och tryck sedan på play-knappen.\n",
    "Du kommer då få upp gränssnittet för modellen under koden."
   ]
  },
  {
   "cell_type": "code",
   "execution_count": null,
   "id": "498ab2d2-7ffc-4b3e-a96a-d76693d481b1",
   "metadata": {},
   "outputs": [],
   "source": [
    "from ipywidgets import interact\n",
    "\n",
    "import constants\n",
    "import utils\n",
    "\n",
    "\n",
    "def radiation_model_greenhouse_effect_and_solar_absorption(\n",
    "    solar_intensity_percent, planet_albedo, infrared_emissivity, optical_absorptivity\n",
    "):\n",
    "    \"\"\"Energy balance model of the Earth that includes the greenhouse effect and solar\n",
    "    absorption in the atmosphere.\n",
    "\n",
    "    Returns the surface and atmospheric temperatures in degree Celsius.\n",
    "    \"\"\"\n",
    "    solar_intensity = solar_intensity_percent / 100 * constants.SOLAR_INTENSITY\n",
    "    sigma = constants.STEFAN_BOLTZMANN_CONSTANT\n",
    "\n",
    "    # A_prime is the fraction of absorbed solar radiation at the surface\n",
    "    A_prime = (1 - optical_absorptivity) * (1 - planet_albedo)\n",
    "\n",
    "    # A_e is the fraction of solar radiation that is reflected back to space at the top\n",
    "    # of the atmosphere\n",
    "    A_e = (1 - optical_absorptivity) ** 2 * planet_albedo\n",
    "\n",
    "    sfc_temp = (\n",
    "        (solar_intensity * (1 - A_e + A_prime))\n",
    "        / (4 * sigma * (2 - infrared_emissivity))\n",
    "    ) ** (1 / 4)\n",
    "    atm_temp = (\n",
    "        (4 * sigma * sfc_temp**4 - solar_intensity * A_prime)\n",
    "        / (4 * infrared_emissivity * sigma)\n",
    "    ) ** (1 / 4)\n",
    "    return sfc_temp, atm_temp\n",
    "\n",
    "\n",
    "sliders = utils.create_sliders([\"solar\", \"albedo\", \"emissivity\", \"absorptivity\"])\n",
    "\n",
    "\n",
    "@interact(**sliders)\n",
    "def draw(\n",
    "    solar_intensity_percent, planet_albedo, infrared_emissivity, optical_absorptivity\n",
    "):\n",
    "    sfc_temp_K, atm_temp_K = radiation_model_greenhouse_effect_and_solar_absorption(\n",
    "        solar_intensity_percent,\n",
    "        planet_albedo,\n",
    "        infrared_emissivity,\n",
    "        optical_absorptivity,\n",
    "    )\n",
    "    sfc_temp_C = sfc_temp_K + constants.ABSOLUTE_ZERO_DEG_C\n",
    "    atm_temp_C = atm_temp_K + constants.ABSOLUTE_ZERO_DEG_C\n",
    "    temperatures = {\n",
    "        \"Surface temperature\": sfc_temp_C,\n",
    "        \"Atmospheric temperature\": atm_temp_C,\n",
    "    }\n",
    "    utils.draw_thermometers(\n",
    "        temperatures, title=\"With greenhouse effect and solar absorption\"\n",
    "    )"
   ]
  },
  {
   "cell_type": "markdown",
   "id": "eaba5106-7e40-417f-800b-626a4ae1fec8",
   "metadata": {},
   "source": [
    "Testa att ändra modellparametrarna och se hur det påverkar den simulerade yttemperaturen på Jorden."
   ]
  },
  {
   "cell_type": "markdown",
   "id": "b742e779-b6be-449f-9f0c-9ae3e1245ea1",
   "metadata": {},
   "source": [
    "## Nästa steg\n",
    "\n",
    "Fortsätt med [energibalansmodellen med växthuseffekt].\n",
    "\n",
    "Du kan också [gå tillbaka till första sidan](introduktion.ipynb)."
   ]
  }
 ],
 "metadata": {
  "kernelspec": {
   "display_name": "Python 3 (ipykernel)",
   "language": "python",
   "name": "python3"
  },
  "language_info": {
   "codemirror_mode": {
    "name": "ipython",
    "version": 3
   },
   "file_extension": ".py",
   "mimetype": "text/x-python",
   "name": "python",
   "nbconvert_exporter": "python",
   "pygments_lexer": "ipython3",
   "version": "3.11.7"
  }
 },
 "nbformat": 4,
 "nbformat_minor": 5
}
