{
 "cells": [
  {
   "cell_type": "markdown",
   "id": "54aff4ea-11ff-49fd-92ce-98849a87b18f",
   "metadata": {},
   "source": [
    "# Inlämning 1: Jordens energibalans\n",
    "\n",
    "Den här Jupyter Notebooken innehåller tre enkla energibalansmodeller som ni ska använda för att svara på frågorna i **Inlämning 1** för kursen SEE060 Jorden som system.\n",
    "\n",
    "<div class=\"alert alert-block alert-info\"> <b>Info:</b> Vad är en Jupyter Notebook?\n",
    "\n",
    "En notebook är ett interaktiv dokument som kan innehålla formatterad text, bilder, och kod.\n",
    "Vi kommer använda notebook-gränssnittet i den här kursen för alla inlämningsuppgifter, så det är bra att bekanta sig med det redan nu.\n",
    "</div>"
   ]
  },
  {
   "cell_type": "markdown",
   "id": "4780f874-4413-466f-919a-835b65b432af",
   "metadata": {},
   "source": [
    "## Hjälp! Jag dubbelklickade på texten och nu ser allt konstigt ut!\n",
    "\n",
    "Ingen panik, du har bara kommit till redigeringsläget.\n",
    "För att göra texten \"normal\" igen så kan du klicka på play-knappen (▶) längre upp.\n",
    "\n",
    "Som du ser är notebooken uppdelad i olika block som kallas *celler*.\n",
    "Du markerar celler genom att klicka en gång på dem.\n",
    "När du klickar på play-knappen så kör du koden eller texten i den markerade cellen.\n",
    "Ett annat sätt att snabbt köra celler är att trycka på  `Shift+Enter` på tangentbordet."
   ]
  },
  {
   "cell_type": "markdown",
   "id": "ff78f8e7-50b9-4a02-abcd-250240f01177",
   "metadata": {},
   "source": [
    "## Phew, då är jag med. Vad ska jag göra nu?\n",
    "\n",
    "Du ska strax få bekanta dig med modellerna. Det finns en notebook för varje modell.\n",
    "I den finner du en kort beskrivning av modellen, en matematisk härledning, samt själva modellkoden.\n",
    "Du ska läsa om modellen\n",
    "(OK om du inte förstår allt, men diskutera gärna med andra studenter och fråga föreläsarna om du är nyfiken på något)\n",
    "och köra modellkoden.\n",
    "Du kommer då få ett gränssnitt som visar olika skjutreglage för att ändra värden på parametrar i modellen,\n",
    "samt modellresultatet.\n",
    "Men först en kort allmän introduktion."
   ]
  },
  {
   "cell_type": "markdown",
   "id": "2ee8913d-3bd5-4e5e-9808-e137f8c5e7c4",
   "metadata": {},
   "source": [
    "## Allmän introduktion till modellerna\n",
    "\n",
    "..."
   ]
  },
  {
   "cell_type": "markdown",
   "id": "2b0d1218-d8dc-457a-92a7-493ae2f14861",
   "metadata": {},
   "source": [
    "## Nästa steg\n",
    "\n",
    "Fortsätt med [den enklaste energimodellen](model1_simplest.ipynb)."
   ]
  }
 ],
 "metadata": {
  "kernelspec": {
   "display_name": "Python 3 (ipykernel)",
   "language": "python",
   "name": "python3"
  },
  "language_info": {
   "codemirror_mode": {
    "name": "ipython",
    "version": 3
   },
   "file_extension": ".py",
   "mimetype": "text/x-python",
   "name": "python",
   "nbconvert_exporter": "python",
   "pygments_lexer": "ipython3",
   "version": "3.11.8"
  }
 },
 "nbformat": 4,
 "nbformat_minor": 5
}
